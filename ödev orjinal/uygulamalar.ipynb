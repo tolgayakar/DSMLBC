{
 "cells": [
  {
   "cell_type": "markdown",
   "metadata": {},
   "source": [
    "# Uygulama: 2. Hafta"
   ]
  },
  {
   "cell_type": "markdown",
   "metadata": {},
   "source": [
    "1. En basit hali ile bir fonksiyon tanimlayip fonksiyonu cagiriniz. (Calistiriniz.)"
   ]
  },
  {
   "cell_type": "code",
   "execution_count": 2,
   "metadata": {},
   "outputs": [
    {
     "data": {
      "text/plain": [
       "10"
      ]
     },
     "execution_count": 2,
     "metadata": {},
     "output_type": "execute_result"
    }
   ],
   "source": [
    "def top(a,b):\n",
    "    return a+b\n",
    "\n",
    "top(6,4)"
   ]
  },
  {
   "cell_type": "markdown",
   "metadata": {},
   "source": [
    "2. Tek argumanli (parametreli), return'u olmayan bir fonksiyon tanimlayiniz, fonksiyonu cagiriniz."
   ]
  },
  {
   "cell_type": "code",
   "execution_count": 1,
   "metadata": {},
   "outputs": [],
   "source": [
    "def carp(a,b):\n",
    "    sonuc = a*b\n",
    "\n",
    "carp(4,3)"
   ]
  },
  {
   "cell_type": "markdown",
   "metadata": {},
   "source": [
    "3. Tek argumanli, return'u (geri donutu) olan bir fonksiyon tanimlayiniz, fonksiyonu cagiriniz."
   ]
  },
  {
   "cell_type": "code",
   "execution_count": null,
   "metadata": {},
   "outputs": [],
   "source": [
    "def tek_arg(a):\n",
    "    "
   ]
  },
  {
   "cell_type": "markdown",
   "metadata": {},
   "source": [
    "4. Tek argumanli, return ile geri donutu olan bir fonksiyon tanimlayiniz, fonksiyonu cagiriniz, 'sonuc' adli bir degisken ile geri donutu yakalayiniz (atama ile kaydediniz), 'sonuc' degiskenini yazdiriniz."
   ]
  },
  {
   "cell_type": "code",
   "execution_count": null,
   "metadata": {},
   "outputs": [],
   "source": []
  },
  {
   "cell_type": "markdown",
   "metadata": {},
   "source": [
    "5. Asagida bir dataframe'in bir degiskeni secilmis tweets_lang adi ile kaydedilmistir. \n",
    "sonuc olarak  {'en': 97, 'et': 1, 'und': 2} seklinde sozluk yapisinda bir ciktisi olan kodlari yaziniz"
   ]
  },
  {
   "cell_type": "code",
   "execution_count": 38,
   "metadata": {},
   "outputs": [
    {
     "data": {
      "text/plain": [
       "{'en': 97, 'et': 1, 'und': 2}"
      ]
     },
     "execution_count": 38,
     "metadata": {},
     "output_type": "execute_result"
    }
   ],
   "source": [
    "en =0 \n",
    "et = 0\n",
    "und = 0\n",
    "for i in tweets_lang:\n",
    "    if i == \"en\":\n",
    "        en += 1\n",
    "    elif i == \"und\":\n",
    "        und += 1\n",
    "    else:\n",
    "        et += 1\n",
    "\n",
    "sozluk = {\"en\" : en,\"et\" : et,\"und\": und}\n",
    "sozluk"
   ]
  },
  {
   "cell_type": "code",
   "execution_count": 33,
   "metadata": {},
   "outputs": [
    {
     "data": {
      "text/plain": [
       "0     en\n",
       "1     en\n",
       "2     et\n",
       "3     en\n",
       "4     en\n",
       "5     en\n",
       "6     en\n",
       "7     en\n",
       "8     en\n",
       "9     en\n",
       "10    en\n",
       "11    en\n",
       "12    en\n",
       "13    en\n",
       "14    en\n",
       "15    en\n",
       "16    en\n",
       "17    en\n",
       "18    en\n",
       "19    en\n",
       "Name: lang, dtype: object"
      ]
     },
     "execution_count": 33,
     "metadata": {},
     "output_type": "execute_result"
    }
   ],
   "source": [
    "import pandas as pd \n",
    "tweets_df = pd.read_csv('tweets.csv')\n",
    "tweets_lang = tweets_df['lang']\n",
    "tweets_lang.head(20)"
   ]
  },
  {
   "cell_type": "code",
   "execution_count": 36,
   "metadata": {},
   "outputs": [
    {
     "data": {
      "text/plain": [
       "{'en': 97, 'und': 2, 'et': 1}"
      ]
     },
     "execution_count": 36,
     "metadata": {},
     "output_type": "execute_result"
    }
   ],
   "source": [
    "tweets_lang.value_counts().to_dict()"
   ]
  },
  {
   "cell_type": "markdown",
   "metadata": {},
   "source": [
    "6. Yukarida yazmis oldugunuz kodlara fonksiyon giydirerek tekrar ayni sonucu yazdiriniz."
   ]
  },
  {
   "cell_type": "code",
   "execution_count": 50,
   "metadata": {},
   "outputs": [
    {
     "data": {
      "text/plain": [
       "{'en': 97, 'et': 1, 'und': 2}"
      ]
     },
     "execution_count": 50,
     "metadata": {},
     "output_type": "execute_result"
    }
   ],
   "source": [
    "def func():\n",
    "    en =0 \n",
    "    et = 0\n",
    "    und = 0\n",
    "    for i in tweets_lang:\n",
    "        if i == \"en\":\n",
    "            en += 1\n",
    "        elif i == \"und\":\n",
    "            und += 1\n",
    "        else:\n",
    "            et += 1\n",
    "\n",
    "        sozluk = {\"en\" : en,\"et\" : et,\"und\": und}\n",
    "    return sozluk\n",
    "func()"
   ]
  },
  {
   "cell_type": "markdown",
   "metadata": {},
   "source": [
    "7. Default argumani olan bir fonksiyon tanimlayiniz, fonksiyonu argumansiz calistiriniz, ayrica argumana farkli bir deger girerek calistiriniz."
   ]
  },
  {
   "cell_type": "code",
   "execution_count": null,
   "metadata": {},
   "outputs": [],
   "source": []
  },
  {
   "cell_type": "markdown",
   "metadata": {},
   "source": [
    "8. Uc adet argumani olan bir fonksiyon tanimlayiniz, iki tanesinin default degeri olsun. Farkli varyasyonlarda fonksiyonu cagiriniz."
   ]
  },
  {
   "cell_type": "code",
   "execution_count": 47,
   "metadata": {},
   "outputs": [
    {
     "data": {
      "text/plain": [
       "16"
      ]
     },
     "execution_count": 47,
     "metadata": {},
     "output_type": "execute_result"
    }
   ],
   "source": [
    "a = 2\n",
    "def varyasyon(a,b=2,c=4):\n",
    "    return (a+b)*c\n",
    "\n",
    "varyasyon(a = 2)"
   ]
  },
  {
   "cell_type": "markdown",
   "metadata": {},
   "source": [
    "9. Sicaklik birimlerinden Celsius'u Kelvine ceviren fonksiyonu yaziniz."
   ]
  },
  {
   "cell_type": "code",
   "execution_count": null,
   "metadata": {},
   "outputs": [],
   "source": []
  },
  {
   "cell_type": "markdown",
   "metadata": {},
   "source": [
    "10. Input fonksiyonu ile 24h formatinda girilen saat icin asagidaki kurallara gore belirtilen arsilama mesajini yazdiriniz."
   ]
  },
  {
   "cell_type": "code",
   "execution_count": null,
   "metadata": {},
   "outputs": [],
   "source": []
  },
  {
   "cell_type": "markdown",
   "metadata": {},
   "source": [
    "11. Altinci soruda yazdiginiz fonksiyonun argumanini degistirerek ayni sonucu default arguman kullanarak yazdiriniz. Not: kolon_adi='lang' ifadesini kullaniniz."
   ]
  },
  {
   "cell_type": "code",
   "execution_count": null,
   "metadata": {},
   "outputs": [],
   "source": []
  },
  {
   "cell_type": "markdown",
   "metadata": {},
   "source": [
    "12. 'python' ile 'Python' ifadelerinin esit olup olmadigini gosteriniz"
   ]
  },
  {
   "cell_type": "code",
   "execution_count": 144,
   "metadata": {},
   "outputs": [
    {
     "data": {
      "text/plain": [
       "False"
      ]
     },
     "execution_count": 144,
     "metadata": {},
     "output_type": "execute_result"
    }
   ],
   "source": [
    "(\"python\" == \"Python\")"
   ]
  },
  {
   "cell_type": "markdown",
   "metadata": {},
   "source": [
    "13. Asagidaki degiskenleri kullanarak dersin matematik olup olmadigini kontrol eden, matematik ise \"Matematik sinavi aciklandi\" ifadesi yazdiran, ayrica puanin 65'ten buyuk olup olmadigini kontrol eden ve 65'ten buyuk ise 'Sinavi Gectiniz' ifadesini cikti olarak yazan kodlari yaziniz."
   ]
  },
  {
   "cell_type": "raw",
   "metadata": {},
   "source": [
    "ders = \"matematik\"\n",
    "puan = 90"
   ]
  },
  {
   "cell_type": "code",
   "execution_count": 6,
   "metadata": {},
   "outputs": [
    {
     "name": "stdout",
     "output_type": "stream",
     "text": [
      "Matematik sınavi aciklandi\n",
      "Sınavı gectiniz\n"
     ]
    }
   ],
   "source": [
    "ders = \"matematik\"\n",
    "puan = 90\n",
    "if ders == \"matematik\":\n",
    "    print(\"Matematik sınavi aciklandi\")\n",
    "    if(puan > 65):\n",
    "        print(\"Sınavı gectiniz\")\n",
    "    "
   ]
  },
  {
   "cell_type": "markdown",
   "metadata": {},
   "source": [
    "14. Bir ustteki kodu editleyip tekrar yaziniz: Eger ders 'matematik' degil ise \"Matematik sinavi aciklanmadi\" yazilsin. Ayrica puan'in 65'ten kucuk olmasi halinde \"Sinavdan kaldiniz\" ifadesi yazilsin."
   ]
  },
  {
   "cell_type": "code",
   "execution_count": 5,
   "metadata": {},
   "outputs": [
    {
     "name": "stdout",
     "output_type": "stream",
     "text": [
      "Matematik sınavi aciklandi\n",
      "Sınavı gectiniz\n"
     ]
    }
   ],
   "source": [
    "ders = \"matematik\"\n",
    "puan = 90\n",
    "if ders == \"matematik\":\n",
    "    print(\"Matematik sınavi aciklandi\")\n",
    "    if(puan > 65):\n",
    "        print(\"Sınavı gectiniz\")\n",
    "    else:\n",
    "        print(\"Sinavdan kaldiniz\")\n",
    "else:\n",
    "    print(\"Matematik sinavi aciklanmadi\")"
   ]
  },
  {
   "cell_type": "markdown",
   "metadata": {},
   "source": [
    "15. Bir liste olusturunuz ve for ile bu listenin elemanlarini yazdiriniz"
   ]
  },
  {
   "cell_type": "code",
   "execution_count": 7,
   "metadata": {},
   "outputs": [
    {
     "name": "stdout",
     "output_type": "stream",
     "text": [
      "1\n",
      "2\n",
      "3\n",
      "4\n",
      "6\n",
      "7\n"
     ]
    }
   ],
   "source": [
    "a = [1,2,3,4,6,7]\n",
    "for i in a:\n",
    "    print(i)"
   ]
  },
  {
   "cell_type": "markdown",
   "metadata": {},
   "source": [
    "16. Bir ustte yapiginiz islemi elemanlari otomatik numaralandirarak tekrar yazdiriniz"
   ]
  },
  {
   "cell_type": "code",
   "execution_count": 11,
   "metadata": {},
   "outputs": [
    {
     "data": {
      "text/plain": [
       "0    1\n",
       "1    2\n",
       "2    3\n",
       "3    4\n",
       "4    6\n",
       "5    7\n",
       "dtype: int32"
      ]
     },
     "execution_count": 11,
     "metadata": {},
     "output_type": "execute_result"
    }
   ],
   "source": [
    "import numpy as np\n",
    "import pandas as pd\n",
    "a= pd.Series(a)\n",
    "a"
   ]
  },
  {
   "cell_type": "markdown",
   "metadata": {},
   "source": [
    "17. Asagida verilen A listesindeki elemanlari for dongusu kullanarak B listesine tasiyiniz."
   ]
  },
  {
   "cell_type": "code",
   "execution_count": 15,
   "metadata": {},
   "outputs": [],
   "source": [
    "A = [10,11,12,13,14,15,16]\n",
    "B = []"
   ]
  },
  {
   "cell_type": "code",
   "execution_count": 16,
   "metadata": {},
   "outputs": [
    {
     "data": {
      "text/plain": [
       "[10, 11, 12, 13, 14, 15, 16]"
      ]
     },
     "execution_count": 16,
     "metadata": {},
     "output_type": "execute_result"
    }
   ],
   "source": [
    "for i in A:\n",
    "    B.append(i)\n",
    "\n",
    "B"
   ]
  },
  {
   "cell_type": "markdown",
   "metadata": {},
   "source": [
    "18. Asagida verilen A listesindeki cift sayilari for dongusu kullanarak B listesine tasiyiniz."
   ]
  },
  {
   "cell_type": "code",
   "execution_count": 18,
   "metadata": {},
   "outputs": [],
   "source": [
    "A = [10,11,12,13,14,15,16]\n",
    "B = []"
   ]
  },
  {
   "cell_type": "code",
   "execution_count": 19,
   "metadata": {},
   "outputs": [
    {
     "data": {
      "text/plain": [
       "[10, 12, 14, 16]"
      ]
     },
     "execution_count": 19,
     "metadata": {},
     "output_type": "execute_result"
    }
   ],
   "source": [
    "for i in A:\n",
    "    if(i % 2 == 0):\n",
    "        B.append(i)\n",
    "\n",
    "B"
   ]
  },
  {
   "cell_type": "markdown",
   "metadata": {},
   "source": [
    "19. Asagidaki listeleri kullanarak belirtilen sonucu for dongusu kullanarak yazdiriniz."
   ]
  },
  {
   "cell_type": "code",
   "execution_count": null,
   "metadata": {},
   "outputs": [],
   "source": []
  },
  {
   "cell_type": "code",
   "execution_count": 21,
   "metadata": {},
   "outputs": [],
   "source": [
    "adj = [\"yellow\", \"big\", \"tasty\"]\n",
    "fruits = [\"apple\", \"banana\"]"
   ]
  },
  {
   "cell_type": "raw",
   "metadata": {},
   "source": [
    "CIKTI:\n",
    "yellow apple\n",
    "yellow banana\n",
    "big apple\n",
    "big banana\n",
    "tasty apple\n",
    "tasty banana"
   ]
  },
  {
   "cell_type": "code",
   "execution_count": 23,
   "metadata": {},
   "outputs": [
    {
     "name": "stdout",
     "output_type": "stream",
     "text": [
      "yellow apple\n",
      "yellow banana\n",
      "big apple\n",
      "big banana\n",
      "tasty apple\n",
      "tasty banana\n"
     ]
    }
   ],
   "source": [
    "for i in adj:\n",
    "    for j in fruits:\n",
    "        print(i +\" \"+ j)"
   ]
  },
  {
   "cell_type": "markdown",
   "metadata": {},
   "source": [
    "20. Carpim tablosunu for donguleri ile yazdiriniz."
   ]
  },
  {
   "cell_type": "code",
   "execution_count": 36,
   "metadata": {},
   "outputs": [
    {
     "name": "stdout",
     "output_type": "stream",
     "text": [
      "\n",
      "0 * 0  =  0\n",
      "0 * 1  =  0\n",
      "0 * 2  =  0\n",
      "0 * 3  =  0\n",
      "0 * 4  =  0\n",
      "0 * 5  =  0\n",
      "0 * 6  =  0\n",
      "0 * 7  =  0\n",
      "0 * 8  =  0\n",
      "0 * 9  =  0\n",
      "0 * 10  =  0\n",
      "\n",
      "1 * 0  =  0\n",
      "1 * 1  =  1\n",
      "1 * 2  =  2\n",
      "1 * 3  =  3\n",
      "1 * 4  =  4\n",
      "1 * 5  =  5\n",
      "1 * 6  =  6\n",
      "1 * 7  =  7\n",
      "1 * 8  =  8\n",
      "1 * 9  =  9\n",
      "1 * 10  =  10\n",
      "\n",
      "2 * 0  =  0\n",
      "2 * 1  =  2\n",
      "2 * 2  =  4\n",
      "2 * 3  =  6\n",
      "2 * 4  =  8\n",
      "2 * 5  =  10\n",
      "2 * 6  =  12\n",
      "2 * 7  =  14\n",
      "2 * 8  =  16\n",
      "2 * 9  =  18\n",
      "2 * 10  =  20\n",
      "\n",
      "3 * 0  =  0\n",
      "3 * 1  =  3\n",
      "3 * 2  =  6\n",
      "3 * 3  =  9\n",
      "3 * 4  =  12\n",
      "3 * 5  =  15\n",
      "3 * 6  =  18\n",
      "3 * 7  =  21\n",
      "3 * 8  =  24\n",
      "3 * 9  =  27\n",
      "3 * 10  =  30\n",
      "\n",
      "4 * 0  =  0\n",
      "4 * 1  =  4\n",
      "4 * 2  =  8\n",
      "4 * 3  =  12\n",
      "4 * 4  =  16\n",
      "4 * 5  =  20\n",
      "4 * 6  =  24\n",
      "4 * 7  =  28\n",
      "4 * 8  =  32\n",
      "4 * 9  =  36\n",
      "4 * 10  =  40\n",
      "\n",
      "5 * 0  =  0\n",
      "5 * 1  =  5\n",
      "5 * 2  =  10\n",
      "5 * 3  =  15\n",
      "5 * 4  =  20\n",
      "5 * 5  =  25\n",
      "5 * 6  =  30\n",
      "5 * 7  =  35\n",
      "5 * 8  =  40\n",
      "5 * 9  =  45\n",
      "5 * 10  =  50\n",
      "\n",
      "6 * 0  =  0\n",
      "6 * 1  =  6\n",
      "6 * 2  =  12\n",
      "6 * 3  =  18\n",
      "6 * 4  =  24\n",
      "6 * 5  =  30\n",
      "6 * 6  =  36\n",
      "6 * 7  =  42\n",
      "6 * 8  =  48\n",
      "6 * 9  =  54\n",
      "6 * 10  =  60\n",
      "\n",
      "7 * 0  =  0\n",
      "7 * 1  =  7\n",
      "7 * 2  =  14\n",
      "7 * 3  =  21\n",
      "7 * 4  =  28\n",
      "7 * 5  =  35\n",
      "7 * 6  =  42\n",
      "7 * 7  =  49\n",
      "7 * 8  =  56\n",
      "7 * 9  =  63\n",
      "7 * 10  =  70\n",
      "\n",
      "8 * 0  =  0\n",
      "8 * 1  =  8\n",
      "8 * 2  =  16\n",
      "8 * 3  =  24\n",
      "8 * 4  =  32\n",
      "8 * 5  =  40\n",
      "8 * 6  =  48\n",
      "8 * 7  =  56\n",
      "8 * 8  =  64\n",
      "8 * 9  =  72\n",
      "8 * 10  =  80\n",
      "\n",
      "9 * 0  =  0\n",
      "9 * 1  =  9\n",
      "9 * 2  =  18\n",
      "9 * 3  =  27\n",
      "9 * 4  =  36\n",
      "9 * 5  =  45\n",
      "9 * 6  =  54\n",
      "9 * 7  =  63\n",
      "9 * 8  =  72\n",
      "9 * 9  =  81\n",
      "9 * 10  =  90\n",
      "\n",
      "10 * 0  =  0\n",
      "10 * 1  =  10\n",
      "10 * 2  =  20\n",
      "10 * 3  =  30\n",
      "10 * 4  =  40\n",
      "10 * 5  =  50\n",
      "10 * 6  =  60\n",
      "10 * 7  =  70\n",
      "10 * 8  =  80\n",
      "10 * 9  =  90\n",
      "10 * 10  =  100\n"
     ]
    }
   ],
   "source": [
    "for i in range(0,11):\n",
    "    print(sep =\"\\t\")\n",
    "    for j in range(0,11):\n",
    "        print( i, \"*\", j, \" = \", i*j)\n",
    "        "
   ]
  },
  {
   "cell_type": "markdown",
   "metadata": {},
   "source": [
    "21. 2000 yilinin subat ayi 29 gun olduguna gore, 2100 yilina kadar subat ayinin 29 gun oldugu yillari for dongusu kullanarak yazdiriniz."
   ]
  },
  {
   "cell_type": "code",
   "execution_count": 125,
   "metadata": {},
   "outputs": [
    {
     "name": "stdout",
     "output_type": "stream",
     "text": [
      "2000 yilinin şubat ayı 29 gündür\n",
      "2004 yilinin şubat ayı 29 gündür\n",
      "2008 yilinin şubat ayı 29 gündür\n",
      "2012 yilinin şubat ayı 29 gündür\n",
      "2016 yilinin şubat ayı 29 gündür\n",
      "2020 yilinin şubat ayı 29 gündür\n",
      "2024 yilinin şubat ayı 29 gündür\n",
      "2028 yilinin şubat ayı 29 gündür\n",
      "2032 yilinin şubat ayı 29 gündür\n",
      "2036 yilinin şubat ayı 29 gündür\n",
      "2040 yilinin şubat ayı 29 gündür\n",
      "2044 yilinin şubat ayı 29 gündür\n",
      "2048 yilinin şubat ayı 29 gündür\n",
      "2052 yilinin şubat ayı 29 gündür\n",
      "2056 yilinin şubat ayı 29 gündür\n",
      "2060 yilinin şubat ayı 29 gündür\n",
      "2064 yilinin şubat ayı 29 gündür\n",
      "2068 yilinin şubat ayı 29 gündür\n",
      "2072 yilinin şubat ayı 29 gündür\n",
      "2076 yilinin şubat ayı 29 gündür\n",
      "2080 yilinin şubat ayı 29 gündür\n",
      "2084 yilinin şubat ayı 29 gündür\n",
      "2088 yilinin şubat ayı 29 gündür\n",
      "2092 yilinin şubat ayı 29 gündür\n",
      "2096 yilinin şubat ayı 29 gündür\n",
      "2100 yilinin şubat ayı 29 gündür\n"
     ]
    }
   ],
   "source": [
    "for i in range(2000,2101):\n",
    "    if(i % 4 == 0):\n",
    "        print(i, \"yilinin subat ayi 29 gündür\")\n",
    "    "
   ]
  },
  {
   "cell_type": "markdown",
   "metadata": {},
   "source": [
    "22. 2000 ile 2100 (yillari dahil olmak uzere) arasinda subat ayinin 29 oldugu yillarin sayisini hesaplayiniz."
   ]
  },
  {
   "cell_type": "code",
   "execution_count": 130,
   "metadata": {},
   "outputs": [
    {
     "data": {
      "text/plain": [
       "26"
      ]
     },
     "execution_count": 130,
     "metadata": {},
     "output_type": "execute_result"
    }
   ],
   "source": [
    "sonuc = 0\n",
    "for i in range(2000,2101):\n",
    "    if(i %4 == 0):\n",
    "        sonuc +=1\n",
    "sonuc"
   ]
  },
  {
   "cell_type": "markdown",
   "metadata": {},
   "source": [
    "23. Basitlestirilmis bir Bowling oyunu icin bir puan hesaplama yapilmasi isteniyor.\n",
    "- atis_yap() adinda bir fonksiyon yaziniz, bu fonksiyon 0'dan 10'a kadar olan sayilardan rasgele birini secsin, ve yazdirsin.\n",
    "- Eger atis_yap() fonksiyonu 10 sayisini tutturursa Ekrana \"Strike!\" yazilsin."
   ]
  },
  {
   "cell_type": "code",
   "execution_count": 102,
   "metadata": {},
   "outputs": [
    {
     "data": {
      "text/plain": [
       "5"
      ]
     },
     "execution_count": 102,
     "metadata": {},
     "output_type": "execute_result"
    }
   ],
   "source": [
    "import random\n",
    "def atis_yap():\n",
    "    \n",
    "        m  = random.randint(0,11)\n",
    "        if(m == 10):\n",
    "            print(\"Strike!\")\n",
    "        else:\n",
    "            return m\n",
    "    \n",
    "atis_yap()\n",
    "\n",
    "\n"
   ]
  },
  {
   "cell_type": "markdown",
   "metadata": {},
   "source": [
    "24. For dongusu kullanarak arguman olarak girilen sayinin faktöriyelini hesaplayan fonksiyonu yaziniz."
   ]
  },
  {
   "cell_type": "code",
   "execution_count": 142,
   "metadata": {},
   "outputs": [
    {
     "name": "stdin",
     "output_type": "stream",
     "text": [
      "n :  4\n"
     ]
    },
    {
     "name": "stdout",
     "output_type": "stream",
     "text": [
      "4 ! = 24\n"
     ]
    }
   ],
   "source": [
    "def factor(n):\n",
    "    if n == 1:\n",
    "        return n\n",
    "    else:\n",
    "        return n*factor(n-1)\n",
    "n = int(input(\"n : \"))\n",
    "print(n,\"! =\" ,factor(n))"
   ]
  },
  {
   "cell_type": "markdown",
   "metadata": {},
   "source": [
    "25. Arguman olarak aldigi kelimeyi tersten yazdiran ayrica ilk harfini buyuk, kalani kucuk harfle yazdiran fonksiyonu yaziniz."
   ]
  },
  {
   "cell_type": "raw",
   "metadata": {},
   "source": [
    "ORNEK:\n",
    "Armut -> Tumra\n",
    "Kalem -> Melak"
   ]
  },
  {
   "cell_type": "code",
   "execution_count": 1,
   "metadata": {},
   "outputs": [],
   "source": [
    "def reverstring(a):\n",
    "    \n",
    "    return a[::-1].title()"
   ]
  },
  {
   "cell_type": "code",
   "execution_count": 2,
   "metadata": {},
   "outputs": [
    {
     "data": {
      "text/plain": [
       "'Melak'"
      ]
     },
     "execution_count": 2,
     "metadata": {},
     "output_type": "execute_result"
    }
   ],
   "source": [
    "a = \"kalem\"\n",
    "reverstring(a)"
   ]
  },
  {
   "cell_type": "code",
   "execution_count": 3,
   "metadata": {},
   "outputs": [
    {
     "data": {
      "text/plain": [
       "'Ucoc Kma Yav'"
      ]
     },
     "execution_count": 3,
     "metadata": {},
     "output_type": "execute_result"
    }
   ],
   "source": [
    "a = \"vay amk cocu\"\n",
    "reverstring(a)"
   ]
  },
  {
   "cell_type": "code",
   "execution_count": 6,
   "metadata": {},
   "outputs": [
    {
     "ename": "SyntaxError",
     "evalue": "'break' outside loop (<ipython-input-6-d19ace5e04ac>, line 29)",
     "output_type": "error",
     "traceback": [
      "\u001b[1;36m  File \u001b[1;32m\"<ipython-input-6-d19ace5e04ac>\"\u001b[1;36m, line \u001b[1;32m29\u001b[0m\n\u001b[1;33m    \u001b[0m\n\u001b[1;37m    ^\u001b[0m\n\u001b[1;31mSyntaxError\u001b[0m\u001b[1;31m:\u001b[0m 'break' outside loop\n"
     ]
    }
   ],
   "source": [
    "def toplama():\n",
    "    a = int(input(\"Birinci deger : \"))\n",
    "    b = int(input(\"İkinci deger : \"))\n",
    "    print(\"Toplam : \",a+b)\n",
    "\n",
    "\n",
    "\n",
    "def cikarma():\n",
    "    a = int(input(\"Birinci deger : \"))\n",
    "    b = int(input(\"İkinci deger : \"))\n",
    "    print(\"Fark : \",a-b)\n",
    "   \n",
    "\n",
    "\n",
    "\n",
    "def carpma():\n",
    "    a = int(input(\"Birinci deger : \"))\n",
    "    b = int(input(\"İkinci deger : \"))\n",
    "    print(\"Carpim : \",a*b)\n",
    "\n",
    "def bolme():\n",
    "    a = int(input(\"Birinci deger : \"))\n",
    "    b = int(input(\"İkinci deger : \"))\n",
    "    \n",
    "    if(b ==):\n",
    "        break\n",
    "    else:\n",
    "        print(\"Oran\", a/b)\n",
    "        \n",
    "\n",
    "def calcu():\n",
    "    while True:\n",
    "        print(\"*************************\")\n",
    "        print(\"\"\"Toplama : 1\\nCikarma : 2\\nCarpma : 3\\nBolme : 4\\nCikmak icin : 0\\n\"\"\")\n",
    "        \n",
    "        a = int(input(\"Yapmak istediğiniz işlemi girin : \"))\n",
    "    \n",
    "        if(a == 1):\n",
    "            toplama()\n",
    "        elif(a ==2):\n",
    "            cikarma()\n",
    "        elif(a == 3):\n",
    "            carpma()\n",
    "        elif(a == 4):\n",
    "            bolme()\n",
    "        elif(a == 0):\n",
    "            print(\"Cikis yapılıyor...\")\n",
    "            break\n",
    "            \n",
    "        else:\n",
    "            print(\"Yanlış bir deger girdiniz\")\n",
    "        print(\"*************************\")\n",
    "        print(\"\\n\")\n",
    "\n",
    "calcu()\n"
   ]
  },
  {
   "cell_type": "code",
   "execution_count": null,
   "metadata": {},
   "outputs": [],
   "source": []
  },
  {
   "cell_type": "code",
   "execution_count": null,
   "metadata": {},
   "outputs": [],
   "source": [
    "\n"
   ]
  },
  {
   "cell_type": "code",
   "execution_count": null,
   "metadata": {},
   "outputs": [],
   "source": []
  }
 ],
 "metadata": {
  "kernelspec": {
   "display_name": "Python 3",
   "language": "python",
   "name": "python3"
  },
  "language_info": {
   "codemirror_mode": {
    "name": "ipython",
    "version": 3
   },
   "file_extension": ".py",
   "mimetype": "text/x-python",
   "name": "python",
   "nbconvert_exporter": "python",
   "pygments_lexer": "ipython3",
   "version": "3.7.1"
  }
 },
 "nbformat": 4,
 "nbformat_minor": 4
}
